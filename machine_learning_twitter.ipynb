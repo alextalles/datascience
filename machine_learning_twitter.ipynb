{
 "cells": [
  {
   "cell_type": "markdown",
   "metadata": {},
   "source": [
    "## Machine Learning para Análise de Sentimentos do Twitter \n",
    "\n",
    "## Alex Talles Viana"
   ]
  },
  {
   "cell_type": "markdown",
   "metadata": {},
   "source": [
    "Pré-requisitos para preparação do ambiente computacional:\n",
    "\n",
    "Instalar o Anaconda Distribuição, de preferência versão 3.7 do Python. Instalando o Anaconda, estarão incluídas as ferramentas:\n",
    "\n",
    "Jupyter Notebook\n",
    "Spyder\n",
    "\n",
    "Se você não quiser instalar o Anaconda, pode usar os ambientes computacionais, na versao via browser do \"Jupyter Notebook\" no link https://jupyter.org/ ou pela \"Colab\" da Google. Preparado o ambiente, execute os passos abaixo:\n",
    "\n",
    "1- Crie sua conta no Twitter.\n",
    "2- Acesse https://developer.twitter.com\n",
    "23 Selecione a opção \"Create new APP\".\n",
    "4- Preencha os campos obrigatórios: name, descrition, url e aceite os termos do Twitter. Feito isso, sua APP estará criada."
   ]
  },
  {
   "cell_type": "code",
   "execution_count": null,
   "metadata": {},
   "outputs": [],
   "source": [
    "# Caso não tenha packages abaixo, será necessário instalá-los. Copie os comandos abaixo para o prompt comando do \"Anaconda\" \n",
    "# para fazer os downloads.\n",
    "pip install textblob\n",
    "pip install tweepy"
   ]
  },
  {
   "cell_type": "code",
   "execution_count": 3,
   "metadata": {},
   "outputs": [],
   "source": [
    "# Importando as bibliotecas necessárias ...\n",
    "from textblob import TextBlob as tb\n",
    "import tweepy\n",
    "import numpy as np"
   ]
  },
  {
   "cell_type": "code",
   "execution_count": 4,
   "metadata": {},
   "outputs": [],
   "source": [
    "# Criando varíaveis para armazenar as autenticações. Elas estão disponíveis na opção \"Keys and tokens\" na APP e atribua nas variáveis abaixo:\n",
    "consumer_key = 'DMT7m5UlFUqxHDNJczgRP8PIx'\n",
    "consumer_secret = '1dBOoLvrZlFHWh2gvospjIzzgfJ7WAKfPhPdrfd3AbqD8cSmw7'\n",
    "access_token = '41748206-aIZecTbZ2XpysvcIqwZOolQC8d5xmcnUME7bJxgQQ'\n",
    "access_token_secret = 'pr0dENrHbYlxUIOo19SuWb4fEFykAAkj0REhmNMTrA4LA'"
   ]
  },
  {
   "cell_type": "code",
   "execution_count": 5,
   "metadata": {},
   "outputs": [],
   "source": [
    "# Criando variáveis que irão realizar o login na API ...\n",
    "auth = tweepy.OAuthHandler(consumer_key, consumer_secret)\n",
    "auth.set_access_token(access_token, access_token_secret)\n",
    "api = tweepy.API(auth)"
   ]
  },
  {
   "cell_type": "code",
   "execution_count": 40,
   "metadata": {},
   "outputs": [],
   "source": [
    "# Variável que irá armazenar todos os \"tweets\" com a palavra escolhida, na função search da API. Por exemplo, será realiza \n",
    "# a pesquisa por palavra \"tecnologia\".\n",
    "public_tweets = api.search('tecnologia')"
   ]
  },
  {
   "cell_type": "code",
   "execution_count": 41,
   "metadata": {},
   "outputs": [],
   "source": [
    "# Na coleta de \"tweets\", será realizada por exemplo, a média de polaridade dos usuários que estão falando sobre tipos de tecnologias.\n",
    "# Variável para armazenar as polaridades.\n",
    "analysis = None"
   ]
  },
  {
   "cell_type": "code",
   "execution_count": 42,
   "metadata": {},
   "outputs": [
    {
     "name": "stdout",
     "output_type": "stream",
     "text": [
      "RT @jtgazmuri: María Teresa Ruiz, doctora en Astrofísica y primera mujer en ganar el Premio Nacional de Ciencias: el discurso del cambio cl…\n",
      "0.0\n",
      "RT @elpais_tec: Los fabricantes luchan por liderar el segmento de los 'wearables' en el que un pequeño dispositivo, prácticamente invisible…\n",
      "0.0\n",
      "La tecnología \"vintage\" de los 80 y 90 tiene su público. Una nueva edición de #Retrozaragoza lo confirma. \n",
      "Lo vemos… https://t.co/BkhixO1Hhq\n",
      "0.0\n",
      "RT @CulturaColectiv: Excel debería ser más obligatorio que aprenderte el trinomio cuadrado perfecto.\n",
      "\n",
      "https://t.co/G5otByf9o4\n",
      "0.0\n",
      "RT @bryanzapataq: @CarlosVerareal Si solo te fijas en la acción del selfie obviamente que es una interrupciòn pero hay un mensaje de fondo…\n",
      "0.0\n",
      "RT @JaumeMayor: Sobre automatización y derecho al trabajo 👇\n",
      "La sentencia (apoyándose en un informe de @CCOO) zanja que la automatización de…\n",
      "0.0\n",
      "➡️ Esta nueva tecnología envía mensajes de audio por medio de un láser (a personas específicas) https://t.co/1ag0GHhWmR\n",
      "0.0\n",
      "⬇️ 10 inventos tecnológicos de 2019 que cambiarán el mundo positivamente, según Bill Gates https://t.co/EQ24Zarqvm\n",
      "0.0\n",
      "Unilever ha appena annunciato che l'uso della tecnologia blockchain ha aiutato l'azienda a risparmiare denaro. Il V… https://t.co/KDcWBRiHMM\n",
      "0.0\n",
      "🤔Y pensar que hace un par de años atrás no podían ni caminar‼️.\n",
      "\n",
      "Ponte a pensar que si ésto te lo muestran abiertam… https://t.co/fa6LB52qny\n",
      "0.0\n",
      "Atlético de Madrid vs Real Madrid: la Policía Nacional revoluciona el partido del siglo con un arma descomunal - Pe… https://t.co/DykRUTpbdS\n",
      "0.2\n",
      "RT @fannybelletwist: 🌵 “Qué ironía la tecnología..., que nos acerca a las personas lejanas, pero nos aleja de las cercanas.” - Mafalda 🤫\n",
      "0.0\n",
      "@Alejo_GuzmanG @nayibbukele Los únicos que están en contra de un gobierno que se ejecuta a través de la tecnología… https://t.co/zjxGoWwOKh\n",
      "0.0\n",
      "RT @jgarciabuitron: La política no se estudia en las Facultades de Políticas. Se estudia en todas partes: en los andamios, limpiando calles…\n",
      "0.0\n",
      "@htcmania Esa paranoia que se tienen con la tecnología China será el motivo....\n",
      "0.0\n"
     ]
    }
   ],
   "source": [
    "# Para cada \"tweet\" dentro da variável, meu modelo deverá imprimir o tweet e, em seguida irá imprimir a análise de dados, usando a função \n",
    "# sentiment.polarity do TextBlob. Além disso, ele irá armazenar o valor na variável tweets.\n",
    "tweets = [] # Lista vazia para armazenar scores.\n",
    "for tweet in public_tweets:\n",
    "    print(tweet.text)\n",
    "    analysis = tb(tweet.text)\n",
    "    polarity = analysis.sentiment.polarity # A função sentiment.polarity retornará um número entre -1 e 1.\n",
    "    tweets.append(polarity)\n",
    "    print(polarity)"
   ]
  },
  {
   "cell_type": "code",
   "execution_count": 43,
   "metadata": {},
   "outputs": [
    {
     "name": "stdout",
     "output_type": "stream",
     "text": [
      "Média de sentimento: 0.013333333333333334\n"
     ]
    }
   ],
   "source": [
    "# Meu modelo irá imprimir o cálculo médio de todos os tweets retornados, utilizando a função \"mean\" da biblioteca NumPy.  \n",
    "print('Média de sentimento: ' + str(np.mean(tweets)))"
   ]
  },
  {
   "cell_type": "code",
   "execution_count": null,
   "metadata": {},
   "outputs": [],
   "source": []
  }
 ],
 "metadata": {
  "kernelspec": {
   "display_name": "Python 3",
   "language": "python",
   "name": "python3"
  },
  "language_info": {
   "codemirror_mode": {
    "name": "ipython",
    "version": 3
   },
   "file_extension": ".py",
   "mimetype": "text/x-python",
   "name": "python",
   "nbconvert_exporter": "python",
   "pygments_lexer": "ipython3",
   "version": "3.7.1"
  }
 },
 "nbformat": 4,
 "nbformat_minor": 2
}
